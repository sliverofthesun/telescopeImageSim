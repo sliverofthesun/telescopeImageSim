{
  "nbformat": 4,
  "nbformat_minor": 0,
  "metadata": {
    "colab": {
      "provenance": [],
      "collapsed_sections": [
        "AaDP9rj-usKp",
        "bN50ZuZzvN1o",
        "At0aRgGQIRkO",
        "6PwIj31uEzpS",
        "EBe8L1lmE4IR",
        "ICIIxAEZ-jVr",
        "F2IibHsBIV9y",
        "cFhf16NLILMK",
        "ZKCSlZa5u8yP",
        "zMQl-GFU0tir"
      ]
    },
    "kernelspec": {
      "name": "python3",
      "display_name": "Python 3"
    },
    "language_info": {
      "name": "python"
    }
  },
  "cells": [
    {
      "cell_type": "markdown",
      "source": [
        "# **Night Sky Object Identification and Mapping**"
      ],
      "metadata": {
        "id": "uOAVPmL0NShL"
      }
    },
    {
      "cell_type": "code",
      "source": [
        "import numpy as np\n",
        "import random\n",
        "import cv2\n",
        "import math\n",
        "from typing import List, Tuple\n",
        "import matplotlib.pyplot as plt\n",
        "import os\n",
        "import shutil\n",
        "import glob\n",
        "import torch\n",
        "import torchvision\n",
        "from torch.utils.data import Dataset\n",
        "from PIL import Image\n",
        "import string\n",
        "import torch.nn as nn"
      ],
      "metadata": {
        "id": "aPuFHnZti0sg"
      },
      "execution_count": 37,
      "outputs": []
    },
    {
      "cell_type": "markdown",
      "source": [
        "#TO DO LIST\n",
        "\n",
        "\n",
        "*   Fix noise generation. DONE\n",
        "*   Made star blur scaleas a sqrt. DONE\n",
        "*   Fix higher magnification resulting in overly blurry images and small number of stars. DONE WITH PREVIOUS\n",
        "*   Work on object generation. DONE\n",
        "*   Pull the coordinates out of the data so we add them manually DONE\n",
        "*   Create a way to tell the code tat you want n images of a certain object and have the code correctly make images. DONE\n",
        "*   Automatic signal to noise ratio. DONE\n",
        "*   Make a way to chek if the motion of the object will be visible. DONE\n",
        "*   Add this check to automatic image generation somehow. DONE\n",
        "*   Try doing a binary classifier to see if a CNN can identify moving object. DONE\n",
        "*   Add random direction to data generation\n",
        "\n"
      ],
      "metadata": {
        "id": "Hiviqd1A9Cap"
      }
    },
    {
      "cell_type": "markdown",
      "source": [
        "#Calculating images"
      ],
      "metadata": {
        "id": "AaDP9rj-usKp"
      }
    },
    {
      "cell_type": "markdown",
      "source": [
        "##Star code"
      ],
      "metadata": {
        "id": "bN50ZuZzvN1o"
      }
    },
    {
      "cell_type": "code",
      "source": [
        "stars_per_magnitude = {\n",
        "    2.0: 48,\n",
        "    3.0: 171,\n",
        "    4.0: 513,\n",
        "    5.0: 1602,\n",
        "    6.0: 4800,\n",
        "    7.0: 14000,\n",
        "    8.0: 42000,\n",
        "    9.0: 121000,\n",
        "    10.0: 340000,\n",
        "    11.0: 725346,\n",
        "    12.0: 1374412,\n",
        "    13.0: 2378009,\n",
        "    14.0: 3844017,\n",
        "    15.0: 5894386,\n",
        "    16.0: 8665135,\n",
        "    17.0: 12306357,\n",
        "    18.0: 16982212,\n",
        "    19.0: 22870933,\n",
        "    20.0: 30164822, #used regression to find those above 20\n",
        "    21.0: 3.997534295069156e7,\n",
        "    22.0: 5.192083183249308e7,\n",
        "    23.0: 6.6644844115279734e7,\n",
        "    24.0: 8.462953308674893e7,\n",
        "    25.0: 1.0641478627977826e8,\n",
        "    26.0: 1.3260229977121532e8,\n",
        "    27.0: 1.6385975616052195e8,\n",
        "    28.0: 2.009251045589161e8,\n",
        "}\n",
        "\n",
        "def count_stars_in_range(start_magnitude: float, end_magnitude: float):\n",
        "    total_stars = 0\n",
        "    for magnitude in range(int(start_magnitude), int(end_magnitude) + 1):\n",
        "        total_stars += stars_per_magnitude.get(magnitude, 0)\n",
        "    return total_stars\n",
        "\n",
        "def generate_stars(min_magnitude, percent_of_sky):\n",
        "    # Number of stars to generate\n",
        "    num_stars = int(count_stars_in_range(0, min_magnitude) * percent_of_sky)\n",
        "\n",
        "    # List to hold the ranges of magnitudes\n",
        "    magnitude_ranges = [(i, i+1, count_stars_in_range(i, i+1)*percent_of_sky) for i in range(0, min_magnitude)]\n",
        "\n",
        "    stars = []\n",
        "    for _ in range(num_stars):\n",
        "        # Generate a random number to determine the magnitude bracket\n",
        "        rand_number = random.random() * num_stars\n",
        "\n",
        "        # Determine the bracket the random number falls into\n",
        "        total = 0\n",
        "        for mag_range in magnitude_ranges:\n",
        "            total += mag_range[2]\n",
        "            if rand_number <= total:\n",
        "                break\n",
        "\n",
        "        # Assign a magnitude to the star within the selected range\n",
        "        magnitude = random.uniform(mag_range[0], mag_range[1])\n",
        "\n",
        "        # Assign random coordinates to the star\n",
        "        coord_x = random.random() * 100  # Percentage from left to right\n",
        "        coord_y = random.random() * 100  # Percentage from bottom to top\n",
        "\n",
        "        # Append the star (represented as a dictionary) to the list\n",
        "        stars.append({\"magnitude\": magnitude, \"coordinates\": (coord_x, coord_y)})\n",
        "\n",
        "    return stars\n",
        "\n",
        "def add_diffraction_spikes(image, center, brightness, magnitude, magnitude_threshold, num_spikes, glow_radius):\n",
        "    # Only add spikes to stars brighter than a certain threshold\n",
        "    if magnitude > magnitude_threshold:\n",
        "        return image\n",
        "\n",
        "    # Define the base spike length\n",
        "    base_spike_length = 2 * glow_radius\n",
        "\n",
        "    # Calculate a factor to increase the spike length based on the star's magnitude\n",
        "    magnitude_factor = 1.2 ** (magnitude_threshold - magnitude)\n",
        "\n",
        "    # Calculate the final spike length including the magnitude factor\n",
        "    final_spike_length = int(base_spike_length * magnitude_factor)\n",
        "\n",
        "    # Add the spikes\n",
        "    for i in range(num_spikes):\n",
        "        # Calculate the direction of the spike\n",
        "        angle = 2 * math.pi * i / num_spikes\n",
        "        direction = (math.cos(angle), math.sin(angle))\n",
        "\n",
        "        # Draw the spike on the image pixel by pixel\n",
        "        for j in range(final_spike_length):\n",
        "            position = (\n",
        "                int(center[0] + direction[0] * j),\n",
        "                int(center[1] + direction[1] * j)\n",
        "            )\n",
        "            # Fade brightness in the latter half of the spike\n",
        "            if j >= final_spike_length / 2:\n",
        "                pixel_brightness = brightness * (1 - 2 * (j - final_spike_length / 2) / final_spike_length)\n",
        "            else:\n",
        "                pixel_brightness = brightness\n",
        "\n",
        "            # Check if the position is within the image boundaries before setting the pixel value\n",
        "            if 0 <= position[0] < image.shape[1] and 0 <= position[1] < image.shape[0]:\n",
        "                image[position[1], position[0]] = min(255, image[position[1], position[0]] + int(pixel_brightness))\n",
        "\n",
        "    return image\n",
        "\n",
        "def create_star_image(stars, celestial_object, celestial_object_position, image_size, exposure_time, magnitude_threshold, num_spikes):\n",
        "    # Create a black image\n",
        "    image = np.zeros(image_size, dtype=np.uint8)\n",
        "\n",
        "    # Check if the list of stars is empty\n",
        "    if not stars and not celestial_object:\n",
        "        return image  # Return an empty image\n",
        "\n",
        "    # Add the celestial object to the stars list with the given position\n",
        "    if celestial_object: # only add if celestial_object is not empty\n",
        "        stars = stars + [{'magnitude': celestial_object['magnitude'], 'coordinates': celestial_object_position}]\n",
        "\n",
        "    # Calculate the maximum and minimum star magnitude\n",
        "    min_magnitude = min(star['magnitude'] for star in stars)\n",
        "    max_magnitude = max(star['magnitude'] for star in stars)\n",
        "\n",
        "    # List to store the stars that need diffraction spikes\n",
        "    stars_with_spikes = []\n",
        "\n",
        "    # Map each star onto the image\n",
        "    for star in stars:\n",
        "        if celestial_object and star['magnitude'] == celestial_object['magnitude'] and star['coordinates'] == celestial_object_position:\n",
        "            continue  # Skip the celestial object\n",
        "\n",
        "        # Calculate star brightness\n",
        "        if max_magnitude == min_magnitude:\n",
        "            brightness = 255\n",
        "        else:\n",
        "            brightness = int(((max_magnitude - star['magnitude']) / (max_magnitude - min_magnitude)) * 255)\n",
        "\n",
        "        # Calculate the position of the star in the image\n",
        "        position = (int(star['coordinates'][1] / 100 * image_size[1]),\n",
        "                    int(star['coordinates'][0] / 100 * image_size[0]))\n",
        "\n",
        "        # Add a glow around the star\n",
        "        glow_radius = calculate_glow_radius(star['magnitude'], max_magnitude, exposure_time)\n",
        "        image = add_glow(image, position, brightness, glow_radius)\n",
        "\n",
        "        # Set the pixel at the star's position to the star's brightness\n",
        "        image[position[1], position[0]] = min(255, image[position[1], position[0]] + brightness)\n",
        "\n",
        "        # Add star to the list of stars that need diffraction spikes if it meets the magnitude threshold\n",
        "        if star['magnitude'] <= magnitude_threshold:\n",
        "            stars_with_spikes.append((position, brightness, star['magnitude'], glow_radius))\n",
        "\n",
        "    # Add diffraction spikes around the stars\n",
        "    for position, brightness, magnitude, glow_radius in stars_with_spikes:\n",
        "        image = add_diffraction_spikes(image, position, brightness, magnitude, magnitude_threshold, num_spikes, glow_radius)\n",
        "\n",
        "    return image\n",
        "\n",
        "\n",
        "def calculate_glow_radius(star_magnitude, max_magnitude, exposure_time):\n",
        "    base_magnitude = 0  # or another value to scale the radius\n",
        "    relative_magnitude = max_magnitude - star_magnitude\n",
        "    # calculate base 10 logarithm of relative brightness, and scale it by a factor\n",
        "    glow_radius = int(0.1 * np.log10(2.5**relative_magnitude) * np.sqrt(exposure_time))  # Using square root of exposure time\n",
        "    return glow_radius\n",
        "\n",
        "\n",
        "def add_glow(image, center, brightness, radius):\n",
        "    # Calculate the square area to consider for the glow\n",
        "    min_x = max(0, center[0] - radius)\n",
        "    max_x = min(image.shape[1], center[0] + radius)\n",
        "    min_y = max(0, center[1] - radius)\n",
        "    max_y = min(image.shape[0], center[1] + radius)\n",
        "\n",
        "    # Iterate over the area and add the glow\n",
        "    for x in range(min_x, max_x):\n",
        "        for y in range(min_y, max_y):\n",
        "            # Calculate the distance to the center of the glow\n",
        "            distance = np.sqrt((x - center[0])**2 + (y - center[1])**2)\n",
        "\n",
        "            # Calculate the glow brightness\n",
        "            glow_brightness = int(brightness * (1 - distance / radius))\n",
        "            glow_brightness = max(0, glow_brightness)  # make sure the brightness never goes below zero\n",
        "\n",
        "            # Add the glow to the pixel\n",
        "            if (y, x) == center:\n",
        "                image[y, x] = glow_brightness\n",
        "            else:\n",
        "                image[y, x] = min(255, image[y, x] + glow_brightness)\n",
        "\n",
        "    return image"
      ],
      "metadata": {
        "id": "VfE7fJdfDOsK"
      },
      "execution_count": 38,
      "outputs": []
    },
    {
      "cell_type": "markdown",
      "source": [
        "##Object code"
      ],
      "metadata": {
        "id": "CvDIFbikvQ1t"
      }
    },
    {
      "cell_type": "code",
      "source": [
        "def distribute_brightness(image, position, magnitude, angular_size_deg, fov_deg, image_size, exposure_time, aperture_diameter):\n",
        "    imageTemp = image.copy()\n",
        "\n",
        "    # Calculate the brightness using exposure time and aperture\n",
        "    C = 255 * 10 ** -0.4  # Astronomical Magnitude System constant\n",
        "    brightness = C * exposure_time * aperture_diameter**2 * 10 ** (-0.4 * magnitude)\n",
        "\n",
        "    # Convert angular size in degrees to radius in pixels\n",
        "    radius_pixels = angular_size_deg / fov_deg * image_size[0] / 2\n",
        "\n",
        "    # Define a temporary array to store the added brightness\n",
        "    added_brightness = np.zeros_like(image, dtype=float)\n",
        "\n",
        "    # Check every pixel\n",
        "    for x in range(image_size[0]):\n",
        "        for y in range(image_size[1]):\n",
        "            dx, dy = x - position[0], y - position[1]\n",
        "            distance = math.hypot(dx, dy)\n",
        "\n",
        "            if distance > radius_pixels:\n",
        "                continue  # Pixel is outside the object\n",
        "\n",
        "            # Calculate the proportion of the pixel covered by the object\n",
        "            if distance + 1 < radius_pixels:\n",
        "                proportion = 1  # Pixel is completely inside the object\n",
        "            else:\n",
        "                # Pixel is partially inside the object.\n",
        "                # We approximate the proportion using a linear model (which is a rough approximation)\n",
        "                proportion = 1 - (distance + 0.5 - radius_pixels)\n",
        "\n",
        "            # Add the brightness to the pixel\n",
        "            added_brightness[y, x] += proportion * brightness / (math.pi * radius_pixels**2)\n",
        "\n",
        "            # Set pixel brightness within object to 0 in the original image\n",
        "            imageTemp[y, x] = 0\n",
        "\n",
        "    # Normalize the brightness so that the maximum added brightness is 255\n",
        "    max_added_brightness = added_brightness.max()\n",
        "    if max_added_brightness > 0:\n",
        "        added_brightness *= 255 / max_added_brightness\n",
        "\n",
        "    # Add the additional brightness to the image, but don't exceed 255\n",
        "    imageTemp = np.minimum(255, imageTemp + added_brightness)\n",
        "\n",
        "    return imageTemp\n",
        "\n",
        "def can_image_planet(planet_properties, fov_degrees, n_images, time_per_image, is_moving_left_to_right):\n",
        "    # Constants\n",
        "    gravitational_constant = 6.67430e-11  # m^3 kg^-1 s^-2\n",
        "    solar_mass = 1.98847e30  # kg\n",
        "    AU_to_meters = 1.495978707e11  # 1 AU in meters\n",
        "\n",
        "    # Extract the semi-major axis in AU and convert it to meters\n",
        "    sma_meters = planet_properties['sma_AU'] * AU_to_meters\n",
        "\n",
        "    # Use Kepler's Third Law to compute the orbital period (in seconds)\n",
        "    orbital_period = 2 * math.pi * math.sqrt(sma_meters**3 / (gravitational_constant * solar_mass))\n",
        "\n",
        "    # Convert the orbital period to degrees per second\n",
        "    degrees_per_second = 360 / orbital_period\n",
        "\n",
        "    # Compute the total time span of the image sequence\n",
        "    total_time = n_images * time_per_image\n",
        "\n",
        "    # Compute the total angle covered by the planet during this time\n",
        "    total_angle = total_time * degrees_per_second\n",
        "\n",
        "    # Check whether this total angle would fit within the field of view of the camera\n",
        "    if total_angle > fov_degrees:\n",
        "        return 0\n",
        "\n",
        "    # Calculate the path width as a percentage of the field of view\n",
        "    path_width_percent = total_angle / fov_degrees * 100\n",
        "\n",
        "    return path_width_percent\n",
        "\n",
        "\n",
        "def add_object_to_image(image, planet_properties, coordinates, fov_deg, exposure_time, aperture_diameter):\n",
        "    image_size = image.shape\n",
        "\n",
        "    # Convert from percent to pixels\n",
        "    object_coordinates_pixels = (int(coordinates[0] / 100 * image_size[1]),\n",
        "                                 int(coordinates[1] / 100 * image_size[0]))\n",
        "\n",
        "    # Calculate the angular size\n",
        "    angle = angular_size(planet_properties['diameter_km'], planet_properties['sma_AU']*1.496e11)\n",
        "\n",
        "    # Add the object to the image\n",
        "    image_with_object = distribute_brightness(image, object_coordinates_pixels, planet_properties['magnitude'], angle, fov_deg, image_size, exposure_time, aperture_diameter)\n",
        "\n",
        "    return image_with_object\n",
        "\n",
        "def add_object_to_stars(stars, object_coordinates, object_magnitude):\n",
        "    # Create a dictionary representing the object (similar to how the stars are represented)\n",
        "    object_dict = {\"magnitude\": object_magnitude, \"coordinates\": object_coordinates}\n",
        "\n",
        "    # Append the object to the stars list\n",
        "    stars.append(object_dict)\n",
        "\n",
        "    return stars\n",
        "\n",
        "import matplotlib.pyplot as plt\n",
        "import random\n",
        "\n",
        "def create_and_save_images(starsToUse, exposure_time, minMagnitude, aperture, planet_properties=None, fov=None, n_images=1, time_per_image=1, is_moving_left_to_right=True, n_of_spikes=0, image_size=100, noiseToSignalRatio=1, explicitVisibleMotion=False, save_dir=\"images\"):\n",
        "\n",
        "    # If planet_properties is provided, calculate magnitude and check if it's possible to image the planet\n",
        "    if planet_properties:\n",
        "        planet_properties['magnitude'] = calculate_apparent_magnitude(\n",
        "            planet_properties['sma_AU'],\n",
        "            planet_properties['diameter_km'],\n",
        "            planet_properties['albedo']\n",
        "        )\n",
        "\n",
        "        # Check if it's possible to image the planet and get the start and end ranges\n",
        "        pathWidth = can_image_planet(planet_properties, fov, n_images, time_per_image, is_moving_left_to_right)\n",
        "\n",
        "        if (not pathWidth and explicitVisibleMotion):\n",
        "            print(\"Cannot create images.\")\n",
        "            return\n",
        "\n",
        "        degrees_per_step = (pathWidth / n_images)\n",
        "        randY = random.uniform(0, 100)\n",
        "        start_position = random.uniform(0, 100 - pathWidth) if is_moving_left_to_right else random.uniform(pathWidth, 100)\n",
        "\n",
        "        if explicitVisibleMotion and not can_see_motion(fov, planet_properties['sma_AU'], time_per_image, image_size, start_position/100):\n",
        "            start_position = int(start_position) + 0.99\n",
        "            if not can_see_motion(fov, planet_properties['sma_AU'], time_per_image, image_size, start_position/100):\n",
        "                print(\"Cannot create images due to explicit object visibility requirements.\")\n",
        "                return\n",
        "    else:\n",
        "        degrees_per_step = 0\n",
        "        randY = 0\n",
        "        start_position = 0\n",
        "\n",
        "    image_size = (image_size, image_size)\n",
        "\n",
        "    # Create and save images\n",
        "    for i in range(n_images):\n",
        "        # Calculate the current position of the planet\n",
        "        current_position = (start_position + i * degrees_per_step) if is_moving_left_to_right else (start_position - i * degrees_per_step)\n",
        "\n",
        "        # Define the coordinates of the planet in the image\n",
        "        coords = (current_position, randY)  # Assuming calculate_coords is a function you have\n",
        "\n",
        "        # Create image without noise\n",
        "        imageNoNoise = create_star_image(starsToUse, planet_properties, coords, image_size, exposure_time, 0.75 * minMagnitude, n_of_spikes)\n",
        "\n",
        "        # Add the object to the image if planet_properties is provided\n",
        "        if planet_properties:\n",
        "            image_with_object = add_object_to_image(imageNoNoise, planet_properties, coords, fov, exposure_time, aperture/1000)\n",
        "        else:\n",
        "            image_with_object = imageNoNoise\n",
        "\n",
        "        # Combine images with noise\n",
        "        imageNoise = combine_images_with_noise(image_with_object, noiseToSignalRatio)\n",
        "\n",
        "        # Save the image\n",
        "        plt.figure(figsize=(10, 10))\n",
        "        plt.imsave(f'{save_dir}/star_image_{i+1}_of_{n_images}.png', imageNoise, cmap='gray')\n",
        "        plt.close()\n"
      ],
      "metadata": {
        "id": "3ilKRsTaJiWD"
      },
      "execution_count": 39,
      "outputs": []
    },
    {
      "cell_type": "code",
      "source": [
        "def angular_size(diameter_km, sma_m):\n",
        "    # Convert diameter to meters\n",
        "    diameter_m = diameter_km * 1e3\n",
        "\n",
        "    # Calculate angular size in radians\n",
        "    A_rad = diameter_m / sma_m\n",
        "\n",
        "    # Convert to degrees\n",
        "    A_deg = math.degrees(A_rad)\n",
        "\n",
        "    return A_deg\n",
        "\n",
        "def calculate_apparent_magnitude(dBS, D, p):\n",
        "    dBO = dBS - 1\n",
        "\n",
        "    # Calculate the absolute magnitude using albedo and diameter of the planet\n",
        "    H = 5*math.log10(1329/(D*math.sqrt(p)))\n",
        "\n",
        "    # Calculate the distance between the observer and the Sun\n",
        "    dOS = math.sqrt(dBS**2 + dBO**2 - 2*dBS*dBO)\n",
        "\n",
        "    # Calculate the apparent magnitude\n",
        "    m = H + 5*math.log10(dBS*dBO/(dOS**2)) + 0.44022814763920315\n",
        "\n",
        "    return m\n",
        "\n",
        "def calculate_spatial_data(fov_deg: float, position_data: List[Tuple[float, Tuple[int, int]]], diameter: float, image_width: int) -> None:\n",
        "    # convert fov to radians\n",
        "    fov_rad = math.radians(fov_deg)\n",
        "    G = 6.67430e-11  # gravitational constant in m^3 kg^-1 s^-2\n",
        "    M_sun = 1.989e30  # mass of the sun in kg\n",
        "    time_difference = position_data[-1][0] - position_data[0][0]\n",
        "\n",
        "    sum_square_diff = 0\n",
        "    last_angle = None\n",
        "    for data in position_data:\n",
        "        time, position = data\n",
        "        angle = tuple(math.radians(coord / 100 * fov_deg) for coord in position)\n",
        "\n",
        "        if last_angle is not None:\n",
        "            dx = angle[0] - last_angle[0]\n",
        "            dy = angle[1] - last_angle[1]\n",
        "            sum_square_diff += dx**2 + dy**2\n",
        "        last_angle = angle\n",
        "\n",
        "    total_angular_movement_rad = math.sqrt(sum_square_diff)\n",
        "    print(f\"The object moved {math.degrees(total_angular_movement_rad)} degrees.\")\n",
        "\n",
        "    # Calculate the total time for a full 2pi radian orbit\n",
        "    orbital_period_hours = (2*math.pi / total_angular_movement_rad) * time_difference / 3600\n",
        "    print(f\"The estimated orbital period is {orbital_period_hours} hours.\")\n",
        "\n",
        "    # Calculate the semi-major axis using Kepler's third law\n",
        "    orbital_period_seconds = orbital_period_hours * 3600  # convert period to seconds\n",
        "    sma = ((G * M_sun * orbital_period_seconds**2) / (4 * math.pi**2))**(1/3)\n",
        "    print(f\"The estimated semi-major axis is {sma} meters.\")\n",
        "\n",
        "    # Calculate the angular size\n",
        "    A_deg = angular_size(diameter, sma)\n",
        "    pixelWidth = (image_width / fov_deg)*A_deg # Image width in pixels.\n",
        "    print(f\"The estimated angular size is {A_deg} degrees - which should be {pixelWidth} pixels wide.\")"
      ],
      "metadata": {
        "id": "p8mjHeE1vQQN"
      },
      "execution_count": 40,
      "outputs": []
    },
    {
      "cell_type": "code",
      "source": [
        "def can_see_motion(fov, object_distance, time_between_images, image_dim, start_position):\n",
        "    \"\"\"\n",
        "    Determine whether an object's motion would be visible as a movement of at least one pixel\n",
        "    between two images taken with a given time difference.\n",
        "\n",
        "    Parameters:\n",
        "    - fov: field of view of the camera (degrees)\n",
        "    - object_distance: distance to the object (km)\n",
        "    - time_between_images: time between the two images (seconds)\n",
        "    - image_dim: the dimensions of the image (in pixels)\n",
        "\n",
        "    Returns:\n",
        "    - True if the object moves at least one pixel, otherwise False.\n",
        "    \"\"\"\n",
        "    # Constants\n",
        "    gravitational_constant = 6.67430e-11  # m^3 kg^-1 s^-2\n",
        "    solar_mass = 1.98847e30  # kg\n",
        "    AU_to_km = 1.496e8  # 1 AU in kilometers\n",
        "\n",
        "    # Convert object distance to meters and calculate orbital period using Kepler's third law\n",
        "    object_distance_m = object_distance * AU_to_km * 1000\n",
        "    orbital_period = 2 * math.pi * math.sqrt(object_distance_m**3 / (gravitational_constant * solar_mass))\n",
        "\n",
        "    # Calculate the angular speed of the object (in degrees per second)\n",
        "    angular_speed = 360 / orbital_period\n",
        "\n",
        "    # Calculate the distance covered by the object in the time between the two images (in degrees)\n",
        "    distance_covered = angular_speed * time_between_images\n",
        "\n",
        "    # Calculate the size of a pixel (in degrees)\n",
        "    pixel_size = fov / image_dim\n",
        "\n",
        "    # If the distance covered is greater than the size of a pixel, the object has moved at least one pixel\n",
        "    return (start_position*fov+distance_covered)/pixel_size>int(start_position*fov/pixel_size+2)\n",
        "\n",
        "t= 30000\n",
        "can_see_motion(0.4392, 9.582, t, 100, 0.50)"
      ],
      "metadata": {
        "id": "feVNF4wfUDgf",
        "colab": {
          "base_uri": "https://localhost:8080/"
        },
        "outputId": "21cba8cf-dd23-45c0-e834-9c30aa587025"
      },
      "execution_count": 41,
      "outputs": [
        {
          "output_type": "execute_result",
          "data": {
            "text/plain": [
              "True"
            ]
          },
          "metadata": {},
          "execution_count": 41
        }
      ]
    },
    {
      "cell_type": "markdown",
      "source": [
        "## Noise code"
      ],
      "metadata": {
        "id": "5FD1Lh4oXIne"
      }
    },
    {
      "cell_type": "code",
      "source": [
        "import numpy as np\n",
        "\n",
        "def generate_noise_image(image_shape):\n",
        "    # Generate a random noise image with pixel values in the range [0, 255]\n",
        "    return np.random.randint(0, 256, image_shape, dtype=np.uint8)\n",
        "\n",
        "def combine_images_with_noise(image, signal_to_noise_ratio):\n",
        "    # Convert the image to float to avoid overflow or underflow\n",
        "    image = np.array(image, dtype=np.float64)\n",
        "\n",
        "    # Generate a noise image of the same shape as the input image\n",
        "    noise_image = generate_noise_image(image.shape)\n",
        "\n",
        "    # Convert the noise image to float\n",
        "    noise_image = np.array(noise_image, dtype=np.float64)\n",
        "\n",
        "    # Handle the case where the signal-to-noise ratio is between 0 and 1\n",
        "    if signal_to_noise_ratio < 1:\n",
        "        # Create an array of \"noise\" images and one \"good\" image\n",
        "        images = [noise_image] * int(1/signal_to_noise_ratio) + [image]\n",
        "\n",
        "    # Handle the case where the signal-to-noise ratio is an integer or greater than 1\n",
        "    else:\n",
        "        # Split the signal-to-noise ratio into an integer part and a fractional part\n",
        "        integer_part = int(signal_to_noise_ratio)\n",
        "        fractional_part = signal_to_noise_ratio - integer_part\n",
        "\n",
        "        # Create an array of \"good\" images and one \"noise\" image\n",
        "        images = [image] * integer_part + [image*fractional_part, noise_image]\n",
        "\n",
        "    # Combine the images by calculating their mean\n",
        "    combined_image = np.mean(images, axis=0)\n",
        "\n",
        "    # Make sure the image intensity stays within the valid range\n",
        "    combined_image = np.clip(combined_image, 0, 255)\n",
        "\n",
        "    # Convert the image back to the original datatype\n",
        "    combined_image = np.array(combined_image, dtype=np.uint8)\n",
        "\n",
        "    return combined_image\n",
        "\n",
        "def calculate_snr(aperture_mm, exposure_time, focal_ratio, fov_degrees):\n",
        "    # Convert aperture from mm to meters\n",
        "    aperture_m = aperture_mm / 1000\n",
        "\n",
        "    # Compute the value as per your formula\n",
        "    snr = math.sqrt((aperture_m ** 2 * math.pi) * (fov_degrees / focal_ratio) * (exposure_time ** 1.46))\n",
        "\n",
        "    return snr\n",
        "\n",
        "def calculate_exposure_time(aperture_mm, snr, focal_ratio, fov_degrees):\n",
        "    # Convert aperture from mm to meters\n",
        "    aperture_m = aperture_mm / 1000\n",
        "\n",
        "    # Compute the exposure time as per the rearranged formula\n",
        "    exposure_time = (snr ** 2 / ((aperture_m ** 2 * math.pi) * (fov_degrees / focal_ratio))) ** (1 / 1.46)\n",
        "\n",
        "    return exposure_time"
      ],
      "metadata": {
        "id": "FdbBTOZ3NSms"
      },
      "execution_count": 42,
      "outputs": []
    },
    {
      "cell_type": "markdown",
      "source": [
        "##Telescope code"
      ],
      "metadata": {
        "id": "HF9KUsmwXRka"
      }
    },
    {
      "cell_type": "code",
      "source": [
        "def field_of_view(chip_size_mm: float, focal_length_mm: float) -> float:\n",
        "    # Formula for field of view in arcminutes, considering focal length in mm\n",
        "    fov = (57.3 * chip_size_mm) / focal_length_mm\n",
        "    return fov\n",
        "\n",
        "def check_star_visibility(aperture: float, exposure_time: float):\n",
        "    # Define parameters\n",
        "    max_brightness = 255  # Maximum star brightness (8-bit scale)\n",
        "    magnitude_buckets = create_magnitude_buckets(2, 28)\n",
        "\n",
        "    # Check star visibility\n",
        "    for min_magnitude, max_magnitude in magnitude_buckets:  # iterate over each magnitude bucket from dimmest to brightest\n",
        "        # Determine star brightness based on exposure time and aperture\n",
        "        brightness = 10 ** (-max_magnitude / 2.5)  # generate a star at the dimmest edge of the current bucket\n",
        "\n",
        "        # Adjust brightness according to exposure time and aperture\n",
        "        exposure_factor = exposure_time  # The longer the exposure time, the more light is collected\n",
        "        aperture_factor = aperture**2  # The effectiveness of aperture is proportional to the square of its diameter\n",
        "        brightness *= exposure_factor * aperture_factor\n",
        "\n",
        "        # Make sure brightness is within acceptable limits\n",
        "        brightness = np.clip(brightness, 0, max_brightness)\n",
        "\n",
        "        # If the star is bright enough to be seen, record it\n",
        "        if brightness > 1:  # or whatever threshold you deem appropriate\n",
        "            return max_magnitude\n",
        "            break  # Breaks the loop as soon as we find a visible star, assuming all brighter stars are also visible\n",
        "\n",
        "\n",
        "def create_magnitude_buckets(min_magnitude: int, max_magnitude: int):\n",
        "    return [(i, i+1) for i in range(max_magnitude-1, min_magnitude-1, -1)]"
      ],
      "metadata": {
        "id": "wB2BBApFXUaa"
      },
      "execution_count": 43,
      "outputs": []
    },
    {
      "cell_type": "markdown",
      "source": [
        "##Telescope settings"
      ],
      "metadata": {
        "id": "fHBYkAmjvDB-"
      }
    },
    {
      "cell_type": "code",
      "source": [
        "aperture=240\n",
        "focal_len=3000\n",
        "exposure_time= 60*5\n",
        "chip_size = 23\n",
        "fov = field_of_view(chip_size, focal_len)\n",
        "fov2 = fov*fov\n",
        "percentOfSky = ((fov2)/41253)\n",
        "snr = calculate_snr(aperture, exposure_time, focal_len/aperture, fov)\n",
        "print(f\"FoV = {fov} degrees which is {fov2} degrees squared or {percentOfSky} % of night sky.\")\n",
        "print(f\"SNR = {snr}\")\n",
        "minMagnitude = check_star_visibility(aperture, exposure_time)\n",
        "print(minMagnitude)\n",
        "print(count_stars_in_range(0, minMagnitude)*percentOfSky)"
      ],
      "metadata": {
        "colab": {
          "base_uri": "https://localhost:8080/"
        },
        "id": "E6EfIJn2kMzY",
        "outputId": "4da328d0-175a-4bee-b4a0-ce5214d1e824"
      },
      "execution_count": 44,
      "outputs": [
        {
          "output_type": "stream",
          "name": "stdout",
          "text": [
            "FoV = 0.43929999999999997 degrees which is 0.19298448999999998 degrees squared or 4.678071655394758e-06 % of night sky.\n",
            "SNR = 5.128735346438478\n",
            "18\n",
            "246.50634523394464\n"
          ]
        }
      ]
    },
    {
      "cell_type": "code",
      "source": [
        "stars = generate_stars(minMagnitude, percentOfSky)"
      ],
      "metadata": {
        "id": "QgTt2A05WEzw"
      },
      "execution_count": 45,
      "outputs": []
    },
    {
      "cell_type": "markdown",
      "source": [
        "#Generating images"
      ],
      "metadata": {
        "id": "_Rsnbilnu4m0"
      }
    },
    {
      "cell_type": "markdown",
      "source": [
        "### Raw data of some planets and telescopes"
      ],
      "metadata": {
        "id": "At0aRgGQIRkO"
      }
    },
    {
      "cell_type": "markdown",
      "source": [
        "#### Telescopes"
      ],
      "metadata": {
        "id": "6PwIj31uEzpS"
      }
    },
    {
      "cell_type": "code",
      "source": [
        "telescopes = {\n",
        "    'Alpha': {\n",
        "        'aperture': 240,\n",
        "        'focal_len': 3000,\n",
        "        'chip_size': 23\n",
        "    },\n",
        "    'Beta': {\n",
        "        'aperture': 200,\n",
        "        'focal_len': 2500,\n",
        "        'chip_size': 22\n",
        "    },\n",
        "    'Gamma': {\n",
        "        'aperture': 300,\n",
        "        'focal_len': 3500,\n",
        "        'chip_size': 24\n",
        "    },\n",
        "    'Delta': {\n",
        "        'aperture': 260,\n",
        "        'focal_len': 3200,\n",
        "        'chip_size': 23.5\n",
        "    },\n",
        "    'Epsilon': {\n",
        "        'aperture': 280,\n",
        "        'focal_len': 3300,\n",
        "        'chip_size': 24.5\n",
        "    },\n",
        "    'Zeta': {\n",
        "        'aperture': 100,\n",
        "        'focal_len': 1000,\n",
        "        'chip_size': 18\n",
        "    },\n",
        "    'Eta': {\n",
        "        'aperture': 80,\n",
        "        'focal_len': 900,\n",
        "        'chip_size': 16\n",
        "    },\n",
        "    'Theta': {\n",
        "        'aperture': 120,\n",
        "        'focal_len': 1300,\n",
        "        'chip_size': 20\n",
        "    },\n",
        "    'Keck': {  # Keck Observatory\n",
        "        'aperture': 10000,  # 10 meters\n",
        "        'focal_len': 175000,  # Corrected\n",
        "        'chip_size': 50\n",
        "    },\n",
        "    'VLT': {  # Very Large Telescope\n",
        "        'aperture': 8200,  # 8.2 meters\n",
        "        'focal_len': 160000,  # Corrected\n",
        "        'chip_size': 45\n",
        "    },\n",
        "    'Hubble': {  # Hubble Space Telescope\n",
        "        'aperture': 2400,  # 2.4 meters\n",
        "        'focal_len': 57600,  # Corrected\n",
        "        'chip_size': 38\n",
        "    },\n",
        "    'ELT': {  # Extremely Large Telescope\n",
        "        'aperture': 39300,\n",
        "        'focal_len': 743400,\n",
        "        'chip_size': 120\n",
        "    },\n",
        "    'Skywatcher': {  # Sky-Watcher Evostar 72\n",
        "        'aperture': 72,\n",
        "        'focal_len': 420,\n",
        "        'chip_size': 14\n",
        "    },\n",
        "    'Celestron': {  # Celestron NexStar 8 SE\n",
        "        'aperture': 200,\n",
        "        'focal_len': 2000,\n",
        "        'chip_size': 22\n",
        "    },\n",
        "    'Orion': {  # Orion StarBlast II 4.5 EQ\n",
        "        'aperture': 114,\n",
        "        'focal_len': 450,\n",
        "        'chip_size': 15\n",
        "    },\n",
        "}"
      ],
      "metadata": {
        "id": "C6bgh92_NLcT"
      },
      "execution_count": 46,
      "outputs": []
    },
    {
      "cell_type": "markdown",
      "source": [
        "#### Planets"
      ],
      "metadata": {
        "id": "EBe8L1lmE4IR"
      }
    },
    {
      "cell_type": "code",
      "source": [
        "planets = {\n",
        "    'jupiter': {\n",
        "        'albedo': 0.52,\n",
        "        'diameter_km': 139820,\n",
        "        'sma_AU': 5.204\n",
        "    },\n",
        "    'saturn': {\n",
        "        'albedo': 0.47,\n",
        "        'diameter_km': 116460,\n",
        "        'sma_AU': 9.582\n",
        "    },\n",
        "    'mars': {\n",
        "        'albedo': 0.15,\n",
        "        'diameter_km': 6779,\n",
        "        'sma_AU': 1.524\n",
        "    },\n",
        "    'uranus': {\n",
        "        'albedo': 0.51,\n",
        "        'diameter_km': 50724,\n",
        "        'sma_AU': 19.18\n",
        "    },\n",
        "    'neptune': {\n",
        "        'albedo': 0.41,\n",
        "        'diameter_km': 49244,\n",
        "        'sma_AU': 30.07\n",
        "    },\n",
        "    'pluto': {\n",
        "        'albedo': 0.3,\n",
        "        'diameter_km': 2376,\n",
        "        'sma_AU': 39.48\n",
        "    },\n",
        "    'ceres': {\n",
        "        'albedo': 0.09,\n",
        "        'diameter_km': 939.4,\n",
        "        'sma_AU': 2.766\n",
        "    },\n",
        "    'vesta': {\n",
        "        'albedo': 0.4228,\n",
        "        'diameter_km': 525.4,\n",
        "        'sma_AU': 2.362\n",
        "    },\n",
        "    'pallas': {\n",
        "        'albedo': 0.1587,\n",
        "        'diameter_km': 511,\n",
        "        'sma_AU': 2.772\n",
        "    },\n",
        "    'hygiea': {\n",
        "        'albedo': 0.0717,\n",
        "        'diameter_km': 433,\n",
        "        'sma_AU': 3.137\n",
        "    },\n",
        "    'interamnia': {\n",
        "        'albedo': 0.0742,\n",
        "        'diameter_km': 332,\n",
        "        'sma_AU': 3.062\n",
        "    },\n",
        "    'davida': {\n",
        "        'albedo': 0.054,\n",
        "        'diameter_km': 298,\n",
        "        'sma_AU': 3.166\n",
        "    },\n",
        "    'sylvia': {\n",
        "        'albedo': 0.0435,\n",
        "        'diameter_km': 271,\n",
        "        'sma_AU': 3.489\n",
        "    },\n",
        "    'eunomia': {\n",
        "        'albedo': 0.2094,\n",
        "        'diameter_km': 270,\n",
        "        'sma_AU': 2.644\n",
        "    },\n",
        "    'euphrosyne': {\n",
        "        'albedo': 0.0543,\n",
        "        'diameter_km': 268,\n",
        "        'sma_AU': 3.149\n",
        "    },\n",
        "    'cybele': {\n",
        "        'albedo': 0.0706,\n",
        "        'diameter_km': 263,\n",
        "        'sma_AU': 3.433\n",
        "    },\n",
        "    'hektor': {\n",
        "        'albedo': 0.025,\n",
        "        'diameter_km': 256,\n",
        "        'sma_AU': 5.229\n",
        "    },\n",
        "    'juno': {\n",
        "        'albedo': 0.2383,\n",
        "        'diameter_km': 254,\n",
        "        'sma_AU': 2.668\n",
        "    }\n",
        "}"
      ],
      "metadata": {
        "id": "y1x3OiylhHOZ"
      },
      "execution_count": 47,
      "outputs": []
    },
    {
      "cell_type": "markdown",
      "source": [
        "### Generate more"
      ],
      "metadata": {
        "id": "ICIIxAEZ-jVr"
      }
    },
    {
      "cell_type": "code",
      "source": [
        "def generate_objects(data, num_objects):\n",
        "    for _ in range(num_objects):\n",
        "        # Select two random keys from the dictionary\n",
        "        obj1, obj2 = random.sample(list(data.keys()), 2)\n",
        "\n",
        "        # Create a new object which is the average of the two selected objects\n",
        "        new_obj = {key: (data[obj1][key] + data[obj2][key]) / 2 for key in data[obj1].keys()}\n",
        "\n",
        "        # Generate a random string of 10 letters for the new object name\n",
        "        new_obj_name = ''.join(random.choices(string.ascii_lowercase, k=10))\n",
        "\n",
        "        # Add the new object to the data dictionary\n",
        "        data[new_obj_name] = new_obj\n",
        "    return data"
      ],
      "metadata": {
        "id": "gQTwm8bZ-W7l"
      },
      "execution_count": 85,
      "outputs": []
    },
    {
      "cell_type": "code",
      "source": [
        "planets = generate_objects(planets, 300)\n",
        "telescopes = generate_objects(telescopes, 300)"
      ],
      "metadata": {
        "id": "eVNPFG6A-oXe"
      },
      "execution_count": 93,
      "outputs": []
    },
    {
      "cell_type": "markdown",
      "source": [
        "### Automatic image generation"
      ],
      "metadata": {
        "id": "F2IibHsBIV9y"
      }
    },
    {
      "cell_type": "code",
      "source": [
        "def settupAndGeneration(planets, telescopes, dims, snrRange, visiblePlanet):\n",
        "    # Select a random telescope\n",
        "    telescope_name, telescope_properties = random.choice(list(telescopes.items()))\n",
        "\n",
        "    # Extract the properties of the selected telescope\n",
        "    aperture = telescope_properties['aperture']\n",
        "    focal_len = telescope_properties['focal_len']\n",
        "    chip_size = telescope_properties['chip_size']\n",
        "\n",
        "    # Calculate additional parameters\n",
        "    fov = field_of_view(chip_size, focal_len)\n",
        "    snr = random.uniform(snrRange[0], snrRange[1])\n",
        "    exposure_time = calculate_exposure_time(aperture, snr, focal_len/aperture, fov)\n",
        "    minMagnitude = check_star_visibility(aperture, exposure_time)\n",
        "    fov2 = fov * fov\n",
        "    percentOfSky = ((fov2)/41253)\n",
        "    stars = generate_stars(minMagnitude, percentOfSky)\n",
        "\n",
        "    # Based on whether the image contains a planet or not, choose the directory to save in\n",
        "    save_dir = 'imagesForTraining/planets' if visiblePlanet else 'imagesForTraining/no_planets'\n",
        "\n",
        "    # Set number of images and time per image\n",
        "    n_images = 2\n",
        "    time_per_image = 100000  # Initial time per image\n",
        "\n",
        "    if visiblePlanet:\n",
        "        # Select a random planet\n",
        "        planet_name, planet_properties = random.choice(list(planets.items()))\n",
        "        # Update planet_properties with magnitude\n",
        "        planet_properties['magnitude'] = calculate_apparent_magnitude(\n",
        "            planet_properties['sma_AU'],\n",
        "            planet_properties['diameter_km'],\n",
        "            planet_properties['albedo']\n",
        "        )\n",
        "\n",
        "        # Try to create images and reduce the time per image if it fails\n",
        "        while True:\n",
        "            path_width = can_image_planet(planet_properties, fov, n_images, time_per_image, True)\n",
        "            if path_width != 0:  # If images can be created\n",
        "                create_and_save_images(stars, exposure_time, minMagnitude, aperture, planet_properties, fov, n_images, time_per_image, True, 0, dims, snr, True, save_dir)\n",
        "                break\n",
        "            else:\n",
        "                randReduction = random.uniform(1, 4)\n",
        "                time_per_image /= randReduction  # Reduce the time per image by a random value - to create more realistic data.\n",
        "    else:\n",
        "        planet_name = \"NoPlanet\"\n",
        "        planet_properties = {}\n",
        "        create_and_save_images(stars, exposure_time, minMagnitude, aperture, planet_properties, fov, n_images, 0, True, 0, dims, snr, False, save_dir)\n",
        "\n",
        "    # Rename and move the images\n",
        "    for j in range(n_images):\n",
        "        old_name = f'{save_dir}/star_image_{j+1}_of_{n_images}.png'\n",
        "        if os.path.isfile(old_name):\n",
        "            new_name = f'{planet_name}_{telescope_name}_{exposure_time}_{j+1}_of_{n_images}.png'\n",
        "            os.rename(old_name, new_name)\n",
        "            shutil.move(new_name, save_dir)\n",
        "\n",
        "def generate_images(planets, telescopes, n, dims, percentageWithPlanets, deleteDirectory, snrRange):\n",
        "    # Create directory if it doesn't exist\n",
        "    if not os.path.exists('imagesForTraining'):\n",
        "        os.makedirs('imagesForTraining')\n",
        "        os.makedirs('imagesForTraining/planets')\n",
        "        os.makedirs('imagesForTraining/no_planets')\n",
        "    else:\n",
        "        # If the directory exists, delete all images in it if the delete direct argument was passed as True\n",
        "        if deleteDirectory:\n",
        "          files = glob.glob('imagesForTraining/no_planets/*.png')\n",
        "          for f in files:\n",
        "              os.remove(f)\n",
        "          files = glob.glob('imagesForTraining/planets/*.png')\n",
        "          for f in files:\n",
        "              os.remove(f)\n",
        "\n",
        "    for i in range(int(n*percentageWithPlanets)):\n",
        "        settupAndGeneration(planets, telescopes, dims, snrRange, visiblePlanet=True)\n",
        "\n",
        "    for i in range(int(n*percentageWithPlanets), n):\n",
        "        settupAndGeneration(planets, telescopes, dims, snrRange, visiblePlanet=False)"
      ],
      "metadata": {
        "id": "LydShQ2YMyIA"
      },
      "execution_count": 15,
      "outputs": []
    },
    {
      "cell_type": "code",
      "source": [
        "generate_images(planets, telescopes, n=12000, dims=100, percentageWithPlanets=0.5, deleteDirectory=True, snrRange=(3,6))"
      ],
      "metadata": {
        "id": "C4QKsl6iPsRV"
      },
      "execution_count": null,
      "outputs": []
    },
    {
      "cell_type": "markdown",
      "source": [
        "### Manual image generation"
      ],
      "metadata": {
        "id": "cFhf16NLILMK"
      }
    },
    {
      "cell_type": "code",
      "source": [
        "# Choose which planet to simulate\n",
        "selected_planet = 'jupiter'  # Change this to the planet you want\n",
        "\n",
        "# Extract the properties of the selected planet\n",
        "planet_properties = planets[selected_planet]\n",
        "\n",
        "n_images = 2\n",
        "time_per_image = 0\n",
        "explicitVisibleMotion = False\n",
        "imageDims = 850\n",
        "create_and_save_images(stars, exposure_time, minMagnitude, aperture, planet_properties, fov, n_images, time_per_image, True, 0, imageDims, snr, explicitVisibleMotion)"
      ],
      "metadata": {
        "id": "BT--FCM9jiP7",
        "colab": {
          "base_uri": "https://localhost:8080/"
        },
        "outputId": "b26d61f3-b700-43fc-c21e-0734d3f5529e"
      },
      "execution_count": null,
      "outputs": [
        {
          "output_type": "stream",
          "name": "stdout",
          "text": [
            "Cannot create images.\n"
          ]
        }
      ]
    },
    {
      "cell_type": "markdown",
      "source": [
        "##Saving images and working with files"
      ],
      "metadata": {
        "id": "ZKCSlZa5u8yP"
      }
    },
    {
      "cell_type": "code",
      "source": [
        "!rm -r starimg*\n",
        "!mkdir starimg\n",
        "!mv star_ima* starimg"
      ],
      "metadata": {
        "id": "Wcq9o0CG72W5"
      },
      "execution_count": null,
      "outputs": []
    },
    {
      "cell_type": "code",
      "source": [
        "from google.colab import files\n",
        "!zip -r /content/starimg.zip /content/starimg\n",
        "files.download(\"/content/starimg.zip\")"
      ],
      "metadata": {
        "id": "dPMBwIkl8EEb"
      },
      "execution_count": null,
      "outputs": []
    },
    {
      "cell_type": "code",
      "source": [
        "!rm -r images*"
      ],
      "metadata": {
        "id": "TeoPGGZmU9Ia"
      },
      "execution_count": null,
      "outputs": []
    },
    {
      "cell_type": "code",
      "source": [
        "from google.colab import files\n",
        "!rm images*.zip\n",
        "!zip -r /content/imagesForTraining.zip /content/imagesForTraining\n",
        "files.download(\"/content/imagesForTraining.zip\")"
      ],
      "metadata": {
        "id": "DvbZUUsAMgFy"
      },
      "execution_count": null,
      "outputs": []
    },
    {
      "cell_type": "code",
      "source": [
        "!rm -rf imagesFor*"
      ],
      "metadata": {
        "id": "LmAAR5Zdek9L"
      },
      "execution_count": null,
      "outputs": []
    },
    {
      "cell_type": "markdown",
      "source": [
        "# MODEL TESTING"
      ],
      "metadata": {
        "id": "VE0ZYPdQRYhs"
      }
    },
    {
      "cell_type": "markdown",
      "source": [
        "#### Dependencies"
      ],
      "metadata": {
        "id": "zMQl-GFU0tir"
      }
    },
    {
      "cell_type": "code",
      "source": [
        "!pip install torch torchvision torchviz tensorflow"
      ],
      "metadata": {
        "id": "Ia4yUzaaQj2k",
        "colab": {
          "base_uri": "https://localhost:8080/"
        },
        "outputId": "a34974c0-0878-4738-d882-8dba7966b397"
      },
      "execution_count": 25,
      "outputs": [
        {
          "output_type": "stream",
          "name": "stdout",
          "text": [
            "Installing collected packages: torchviz\n",
            "Successfully installed torchviz-0.0.2\n"
          ]
        }
      ]
    },
    {
      "cell_type": "markdown",
      "source": [
        "#### Network 3 - Binary Class Working"
      ],
      "metadata": {
        "id": "jGW1KHERtjEn"
      }
    },
    {
      "cell_type": "code",
      "source": [
        "class ChangeImageDataset(Dataset):\n",
        "    def __init__(self, planets_folder, no_planets_folder, transform=None):\n",
        "        self.planets_folder = planets_folder\n",
        "        self.no_planets_folder = no_planets_folder\n",
        "        self.transform = transform\n",
        "\n",
        "        self.planets_images = sorted(os.listdir(planets_folder))  # sort filenames\n",
        "        self.no_planets_images = sorted(os.listdir(no_planets_folder))\n",
        "\n",
        "    def __len__(self):\n",
        "        return len(self.planets_images) - 1 + len(self.no_planets_images) - 1\n",
        "\n",
        "    def __getitem__(self, idx):\n",
        "        if idx < len(self.planets_images) - 1:\n",
        "            img_name_1 = os.path.join(self.planets_folder, self.planets_images[idx])\n",
        "            img_name_2 = os.path.join(self.planets_folder, self.planets_images[idx + 1])\n",
        "            label = 1\n",
        "        else:\n",
        "            idx = idx - (len(self.planets_images) - 1)\n",
        "            img_name_1 = os.path.join(self.no_planets_folder, self.no_planets_images[idx])\n",
        "            img_name_2 = os.path.join(self.no_planets_folder, self.no_planets_images[idx + 1])\n",
        "            label = 0\n",
        "\n",
        "        image1 = Image.open(img_name_1)\n",
        "        image2 = Image.open(img_name_2)\n",
        "\n",
        "        if self.transform:\n",
        "            image1 = self.transform(image1)\n",
        "            image2 = self.transform(image2)\n",
        "\n",
        "        return torch.cat([image1, image2], dim=0), torch.tensor(label, dtype=torch.float32)\n",
        "\n"
      ],
      "metadata": {
        "id": "KXmyUNkAtlcT"
      },
      "execution_count": 17,
      "outputs": []
    },
    {
      "cell_type": "code",
      "source": [
        "from torch.utils.data import DataLoader\n",
        "from torchvision import transforms\n",
        "\n",
        "transform = transforms.Compose([\n",
        "    transforms.Resize((100, 100)),  # Resize images\n",
        "    transforms.Grayscale(),  # Convert to grayscale\n",
        "    transforms.ToTensor()  # Convert PIL image to Torch tensor\n",
        "])\n",
        "\n",
        "dataset = ChangeImageDataset(\n",
        "    planets_folder='imagesForTraining/planets',\n",
        "    no_planets_folder='imagesForTraining/no_planets',\n",
        "    transform=transform\n",
        ")\n",
        "\n",
        "# split dataset into training and validation\n",
        "train_size = int(0.8 * len(dataset))  # 80% for training\n",
        "valid_size = len(dataset) - train_size\n",
        "train_dataset, valid_dataset = torch.utils.data.random_split(dataset, [train_size, valid_size])\n",
        "\n",
        "train_loader = DataLoader(train_dataset, batch_size=32, shuffle=True)\n",
        "valid_loader = DataLoader(valid_dataset, batch_size=32, shuffle=True)\n"
      ],
      "metadata": {
        "id": "bY7PElLyt75s"
      },
      "execution_count": 18,
      "outputs": []
    },
    {
      "cell_type": "code",
      "source": [
        "class ChangeNet(nn.Module):\n",
        "    def __init__(self):\n",
        "        super(ChangeNet, self).__init__()\n",
        "        self.cnn = nn.Sequential(\n",
        "            nn.Conv2d(2, 64, kernel_size=3, stride=1, padding=1),\n",
        "            nn.ReLU(),\n",
        "            nn.MaxPool2d(kernel_size=2, stride=2),\n",
        "\n",
        "            nn.Conv2d(64, 128, kernel_size=3, stride=1, padding=1),\n",
        "            nn.ReLU(),\n",
        "            nn.MaxPool2d(kernel_size=2, stride=2),\n",
        "\n",
        "            nn.Conv2d(128, 256, kernel_size=3, stride=1, padding=1),\n",
        "            nn.ReLU(),\n",
        "            nn.MaxPool2d(kernel_size=2, stride=2),\n",
        "\n",
        "            nn.Flatten(),\n",
        "            nn.Linear(256*12*12, 1024),  # Adjust based on the output size from the last MaxPool layer\n",
        "            nn.ReLU(),\n",
        "            nn.Linear(1024, 128),\n",
        "            nn.ReLU(),\n",
        "            nn.Linear(128, 1)\n",
        "        )\n",
        "\n",
        "    def forward(self, x):\n",
        "        x = self.cnn(x)\n",
        "        return torch.sigmoid(x).squeeze(1)\n"
      ],
      "metadata": {
        "id": "D2ZMp5VUtsFG"
      },
      "execution_count": 23,
      "outputs": []
    },
    {
      "cell_type": "code",
      "source": [
        "import matplotlib.pyplot as plt\n",
        "from IPython.display import clear_output\n",
        "\n",
        "model = ChangeNet()\n",
        "optimizer = torch.optim.Adam(model.parameters(), lr=0.0001)\n",
        "loss_fn = nn.BCELoss()\n",
        "\n",
        "epochs = 20\n",
        "min_val_loss = float('inf')\n",
        "epochs_no_improve = 0\n",
        "\n",
        "train_losses = []\n",
        "valid_losses = []\n",
        "\n",
        "for epoch in range(epochs):\n",
        "    model.train()\n",
        "    train_loss = 0\n",
        "    for images, labels in train_loader:\n",
        "        optimizer.zero_grad()\n",
        "        outputs = model(images)\n",
        "        loss = loss_fn(outputs, labels)\n",
        "        loss.backward()\n",
        "        optimizer.step()\n",
        "        train_loss += loss.item()\n",
        "\n",
        "    train_losses.append(train_loss / len(train_loader))\n",
        "\n",
        "    model.eval()\n",
        "    with torch.no_grad():\n",
        "        valid_loss = sum(loss_fn(model(images).squeeze(), labels) for images, labels in valid_loader)\n",
        "        valid_loss = valid_loss / len(valid_loader)\n",
        "        valid_losses.append(valid_loss)\n",
        "\n",
        "    correct = 0\n",
        "    total = 0\n",
        "    with torch.no_grad():\n",
        "        for images, labels in valid_loader:\n",
        "            outputs = model(images).squeeze()\n",
        "            predicted = (outputs > 0.5).float()\n",
        "            total += labels.size(0)\n",
        "            correct += (predicted == labels).sum().item()\n",
        "\n",
        "    # Clear output and print current losses\n",
        "    clear_output(wait=True)\n",
        "    print(f'Epoch {epoch+1}, Training Loss: {train_losses[-1]}, Validation Loss: {valid_losses[-1]}')\n",
        "    print('Accuracy of the network on the validation set: %d %%' % (100 * correct / total))\n",
        "\n",
        "    # Plotting\n",
        "    plt.figure(figsize=(10, 5))\n",
        "    plt.plot(range(1, epoch + 2), train_losses, label='Training Loss')\n",
        "    plt.plot(range(1, epoch + 2), valid_losses, label='Validation Loss')\n",
        "    plt.title('Loss over epochs')\n",
        "    plt.xlabel('Epoch')\n",
        "    plt.ylabel('Loss')\n",
        "    plt.xticks(range(1, epoch + 2))\n",
        "    plt.legend()\n",
        "    plt.grid(True)\n",
        "    plt.show()\n",
        "\n",
        "    # In your training loop\n",
        "    if valid_loss < min_val_loss:\n",
        "        min_val_loss = valid_loss\n",
        "        epochs_no_improve = 0\n",
        "    else:\n",
        "        epochs_no_improve += 1\n",
        "        if epochs_no_improve == 2:model.info()\n",
        "            print('Early stopping!')\n",
        "            break"
      ],
      "metadata": {
        "colab": {
          "base_uri": "https://localhost:8080/",
          "height": 541
        },
        "id": "-uF25UTWtxLc",
        "outputId": "613ca561-e113-4c0d-e3ed-86c6ad0bb3d6"
      },
      "execution_count": 98,
      "outputs": [
        {
          "output_type": "stream",
          "name": "stdout",
          "text": [
            "Epoch 5, Training Loss: 0.16596208802424373, Validation Loss: 0.20820294320583344\n",
            "Accuracy of the network on the validation set: 90 %\n"
          ]
        },
        {
          "output_type": "display_data",
          "data": {
            "text/plain": [
              "<Figure size 1000x500 with 1 Axes>"
            ],
            "image/png": "[encoded data removed]"
          },
          "metadata": {}
        },
        {
          "output_type": "stream",
          "name": "stdout",
          "text": [
            "Early stopping!\n"
          ]
        }
      ]
    },
    {
      "cell_type": "code",
      "source": [
        "from torchsummary import summary\n",
        "\n",
        "model = ChangeNet()\n",
        "summary(model, (2, 100, 100))"
      ],
      "metadata": {
        "colab": {
          "base_uri": "https://localhost:8080/"
        },
        "id": "Jq-3Oi64Oo8l",
        "outputId": "dd0954bf-2131-4658-99f2-fb0b78e56936"
      },
      "execution_count": 36,
      "outputs": [
        {
          "output_type": "stream",
          "name": "stdout",
          "text": [
            "----------------------------------------------------------------\n",
            "        Layer (type)               Output Shape         Param #\n",
            "================================================================\n",
            "            Conv2d-1         [-1, 64, 100, 100]           1,216\n",
            "              ReLU-2         [-1, 64, 100, 100]               0\n",
            "         MaxPool2d-3           [-1, 64, 50, 50]               0\n",
            "            Conv2d-4          [-1, 128, 50, 50]          73,856\n",
            "              ReLU-5          [-1, 128, 50, 50]               0\n",
            "         MaxPool2d-6          [-1, 128, 25, 25]               0\n",
            "            Conv2d-7          [-1, 256, 25, 25]         295,168\n",
            "              ReLU-8          [-1, 256, 25, 25]               0\n",
            "         MaxPool2d-9          [-1, 256, 12, 12]               0\n",
            "          Flatten-10                [-1, 36864]               0\n",
            "           Linear-11                 [-1, 1024]      37,749,760\n",
            "             ReLU-12                 [-1, 1024]               0\n",
            "           Linear-13                  [-1, 128]         131,200\n",
            "             ReLU-14                  [-1, 128]               0\n",
            "           Linear-15                    [-1, 1]             129\n",
            "================================================================\n",
            "Total params: 38,251,329\n",
            "Trainable params: 38,251,329\n",
            "Non-trainable params: 0\n",
            "----------------------------------------------------------------\n",
            "Input size (MB): 0.08\n",
            "Forward/backward pass size (MB): 19.50\n",
            "Params size (MB): 145.92\n",
            "Estimated Total Size (MB): 165.49\n",
            "----------------------------------------------------------------\n"
          ]
        }
      ]
    }
  ]
}